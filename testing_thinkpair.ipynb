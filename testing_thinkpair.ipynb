{
  "nbformat": 4,
  "nbformat_minor": 0,
  "metadata": {
    "colab": {
      "provenance": []
    },
    "kernelspec": {
      "name": "python3",
      "display_name": "Python 3"
    }
  },
  "cells": [
    {
      "cell_type": "markdown",
      "metadata": {
        "id": "QHDrErk5jKYF"
      },
      "source": [
        "# Think-pair: Software Testing\n",
        "\n",
        "Spend 30 minutes working through this notebook on your own, and 15 minutes discussing your answers in a breakout room with a partner. If you finish early, you can start writing tests for your own package."
      ]
    },
    {
      "cell_type": "code",
      "metadata": {
        "id": "bVZx9rCIW38K"
      },
      "source": [
        "import numpy as np\n",
        "import matplotlib.pyplot as plt\n",
        "\n",
        "class CompareFitter(object):\n",
        "  \"\"\"\n",
        "  Given timeseries data, computes the sum of squared residuals of a linear fit\n",
        "  and a quadratic fit, selects the better fit, and plots it.\n",
        "\n",
        "  Args:\n",
        "    time (np.array of float): 1D array of times\n",
        "    data (np.array of float): 1D array of corresponding data points\n",
        "  \"\"\"\n",
        "\n",
        "  def __init__(self, time, data):\n",
        "    self.time = time\n",
        "    self.data = data\n",
        "    self.n_points = len(data)\n",
        "\n",
        "    assert len(self.time) == self.n_points, \"time and data must have same length!\"\n",
        "\n",
        "  def fit_line(self):\n",
        "    \"\"\"\n",
        "    Fits a line to the timeseries and computes the sum of squared residuals of\n",
        "    the fit. Uses numpy.polyfit:\n",
        "    https://numpy.org/doc/stable/reference/generated/numpy.polyfit.html\n",
        "    \"\"\"\n",
        "\n",
        "    # self.lin_coeffs is a list of the coefficients of the best fit line\n",
        "    # self.linear_resids is a list of the sum of squared residuals to the best\n",
        "    #   fit line.\n",
        "    self.lin_coeffs, self.linear_resids, _, _, _ = np.polyfit(\n",
        "        self.time, self.data, 1, full=True\n",
        "    )\n",
        "\n",
        "  def get_lin_resid(self):\n",
        "    return self.linear_resids\n",
        "\n",
        "\n",
        "  def fit_quadratic(self):\n",
        "    \"\"\"\n",
        "    Fits a quadratic function to the timeseries and computes the sum of squared\n",
        "    residuals of the fit.\n",
        "    \"\"\"\n",
        "\n",
        "    self.quad_coeffs, self.quadratic_resids, _, _, _ = np.polyfit(\n",
        "        self.time, self.data, 2, full=True\n",
        "    )\n",
        "\n",
        "  def plot_best(self):\n",
        "    \"\"\"\n",
        "    Plots the model with minimum sum of squared residuals.\n",
        "\n",
        "    Uses numpy.poly1d:\n",
        "    https://numpy.org/doc/stable/reference/generated/numpy.poly1d.html\n",
        "    (see \"Examples\" for usage applied here).\n",
        "    \"\"\"\n",
        "\n",
        "    fig, ax = plt.subplots(figsize=(5,5))\n",
        "    ax.scatter(self.time, self.data, color='purple')\n",
        "    ax.set_xlabel('time'); ax.set_ylabel('data')\n",
        "\n",
        "    if self.linear_resids <= self.quadratic_resids:\n",
        "      p = np.poly1d(self.lin_coeffs)\n",
        "      ax.plot(self.time, p(self.time), color='k')\n",
        "    else:\n",
        "      p = np.poly1d(self.quad_coeffs)\n",
        "      ax.plot(self.time, p(self.time), color='k')\n",
        "\n",
        "    return fig, ax"
      ],
      "execution_count": 35,
      "outputs": []
    },
    {
      "cell_type": "markdown",
      "metadata": {
        "id": "0BV7QGuJW8MW"
      },
      "source": [
        "How would a user interact with this code? Write down two or more ways.\n",
        "\n",
        "TYPE YOUR ANSWER HERE\n",
        "\n",
        "What are some edge cases? Write down two or more edge cases.\n",
        "\n",
        "TYPE YOUR ANSWER HERE\n",
        "\n"
      ]
    },
    {
      "cell_type": "code",
      "source": [
        "time_val = []\n",
        "for i in range(0,10,1):\n",
        "  time_val.append(i)\n",
        "\n",
        "time_val = np.asarray(time_val)\n",
        "print(time_val)\n",
        "\n",
        "times = time_val"
      ],
      "metadata": {
        "id": "sFcxReh1zt2W",
        "outputId": "ca9cc90b-bf04-4ed4-bd05-693b85ada392",
        "colab": {
          "base_uri": "https://localhost:8080/"
        }
      },
      "execution_count": 7,
      "outputs": [
        {
          "output_type": "stream",
          "name": "stdout",
          "text": [
            "[0 1 2 3 4 5 6 7 8 9]\n"
          ]
        }
      ]
    },
    {
      "cell_type": "code",
      "metadata": {
        "id": "VtMOXoRYXQgD"
      },
      "source": [
        "import pytest\n",
        "\n",
        "\n",
        "def test_fit_line():\n",
        "  \"\"\"\n",
        "  Fill in a unit test that evaluates the correctness of the\n",
        "  CompareFitter.fit_line() function. Don't forget to fill in the docstring!\n",
        "  \"\"\"\n",
        "  test = CompareFitter(times,time_val)\n",
        "  test.fit_line()\n",
        "  resid = np.sum(test.get_lin_resid())\n",
        "\n",
        "  resid_exp = 1e-9\n",
        "\n",
        "  # print(resid)\n",
        "  assert resid == pytest.approx(resid_exp, abs = 1)\n",
        "\n",
        "\n",
        "  # step 1: make a timeseries to test on.\n",
        "\n",
        "  # step 2: instantiate the CompareFitter class.\n",
        "\n",
        "  # step 3: run CompareFitter.fit_line() and compare to your expectation.\n",
        "  # (use Python's assert functionality).\n",
        "\n",
        "def YOUR_UNIT_TEST():\n",
        "  \"\"\"\n",
        "  Rename & fill in a second unit test here. Don't forget to fill in the docstring!\n",
        "  \"\"\"\n",
        "  pass\n",
        "\n",
        "def YOUR_END_TO_END_TEST():\n",
        "  \"\"\"\n",
        "  Rename & fill in an end-to-end test here. Don't forget to fill in the docstring!\n",
        "  \"\"\"\n",
        "  pass"
      ],
      "execution_count": 45,
      "outputs": []
    },
    {
      "cell_type": "code",
      "source": [
        "test_fit_line()"
      ],
      "metadata": {
        "id": "6EdpKbHo1Bg7"
      },
      "execution_count": 46,
      "outputs": []
    },
    {
      "cell_type": "markdown",
      "metadata": {
        "id": "RdxvbjEuqJHb"
      },
      "source": [
        "Optional: How would you improve the original code? Implement your improvements.\n",
        "\n",
        "Hint: how might users \"break\" the code? How could you design it to decrease the probability of breakage?"
      ]
    }
  ]
}